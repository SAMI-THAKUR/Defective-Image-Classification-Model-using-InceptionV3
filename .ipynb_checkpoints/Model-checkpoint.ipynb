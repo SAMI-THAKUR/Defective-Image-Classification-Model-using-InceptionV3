{
 "cells": [
  {
   "cell_type": "markdown",
   "id": "f326cd33-77ee-48c3-8b7d-6b668102388f",
   "metadata": {},
   "source": [
    "# Imports"
   ]
  },
  {
   "cell_type": "code",
   "execution_count": 1,
   "id": "7570a607-22c7-4a11-8f1b-da3b06e2c7ab",
   "metadata": {
    "execution": {
     "iopub.execute_input": "2024-11-09T19:33:08.532613Z",
     "iopub.status.busy": "2024-11-09T19:33:08.531105Z",
     "iopub.status.idle": "2024-11-09T19:33:14.774178Z",
     "shell.execute_reply": "2024-11-09T19:33:14.773162Z",
     "shell.execute_reply.started": "2024-11-09T19:33:08.532613Z"
    }
   },
   "outputs": [
    {
     "name": "stdout",
     "output_type": "stream",
     "text": [
      "WARNING:tensorflow:From C:\\Users\\SAMI\\AppData\\Local\\Programs\\Python\\Python310\\lib\\site-packages\\keras\\src\\losses.py:2976: The name tf.losses.sparse_softmax_cross_entropy is deprecated. Please use tf.compat.v1.losses.sparse_softmax_cross_entropy instead.\n",
      "\n"
     ]
    }
   ],
   "source": [
    "import tensorflow as tf\n",
    "from tensorflow.keras import layers, models\n",
    "from tensorflow.keras.applications import InceptionV3\n",
    "import numpy as np\n",
    "import matplotlib.pyplot as plt\n",
    "from sklearn.model_selection import train_test_split"
   ]
  },
  {
   "cell_type": "markdown",
   "id": "7218f612-09a0-418e-87fb-eee2b92fbab7",
   "metadata": {},
   "source": [
    "## Loading Categorized Image Data from a `.npz` File\n",
    "- The function `np.load` is used to load the contents of the `.npz` file, which contains the image data and its corresponding labels and sub-labels.\n",
    "- The `allow_pickle=True` argument is used to allow loading objects that may have been saved using Python's pickle format, which is necessary for arrays containing non-basic data types.\n",
    " \n",
    "**Loaded Data**:\n",
    "   - `image_pixels`: The array containing the preprocessed image pixel data.\n",
    "   - `labels`: The array containing the labels for the images (e.g., `0` for good images, `1` for manipulated images).\n",
    "   - `sub_labels`: The array containing the sub-labels for the images (e.g., \"good\", \"manipulated_front\")."
   ]
  },
  {
   "cell_type": "code",
   "execution_count": 2,
   "id": "868db631-2383-48fb-8f59-f3f54473108b",
   "metadata": {
    "execution": {
     "iopub.execute_input": "2024-11-09T19:33:14.777156Z",
     "iopub.status.busy": "2024-11-09T19:33:14.776156Z",
     "iopub.status.idle": "2024-11-09T19:33:15.176613Z",
     "shell.execute_reply": "2024-11-09T19:33:15.175610Z",
     "shell.execute_reply.started": "2024-11-09T19:33:14.776156Z"
    }
   },
   "outputs": [],
   "source": [
    "data = np.load('balanced_data.npz', allow_pickle=True)\n",
    "image_pixels = data['image']\n",
    "labels = data['label']\n",
    "sub_labels = data['sub_label']"
   ]
  },
  {
   "cell_type": "markdown",
   "id": "0242d02a-bdab-471d-b443-73106bd2ec74",
   "metadata": {},
   "source": [
    "## Splitting the Dataset\n",
    "\n",
    "To evaluate the model's performance, the dataset is split into two subsets:\n",
    "1. **Training Set**: Used to train the model.\n",
    "2. **Testing Set**: Used to test the model and evaluate its performance."
   ]
  },
  {
   "cell_type": "code",
   "execution_count": 3,
   "id": "6c3367e6-dcc1-4d8c-8d3a-62b90043c0d0",
   "metadata": {
    "execution": {
     "iopub.execute_input": "2024-11-09T19:33:15.177608Z",
     "iopub.status.busy": "2024-11-09T19:33:15.176613Z",
     "iopub.status.idle": "2024-11-09T19:33:15.253680Z",
     "shell.execute_reply": "2024-11-09T19:33:15.253680Z",
     "shell.execute_reply.started": "2024-11-09T19:33:15.177608Z"
    }
   },
   "outputs": [],
   "source": [
    "# Split the dataset into training and testing sets (70% training, 30% testing)\n",
    "images_train, images_test, labels_train, labels_test = train_test_split(\n",
    "    image_pixels, labels, test_size=0.3, random_state=42\n",
    ")\n"
   ]
  },
  {
   "cell_type": "markdown",
   "id": "66c755cd-daa5-4cda-ba14-43b694d87d99",
   "metadata": {},
   "source": [
    "# Shape of the images"
   ]
  },
  {
   "cell_type": "code",
   "execution_count": 4,
   "id": "171c745b-6164-4b8e-bff8-bfcc0e70619b",
   "metadata": {
    "execution": {
     "iopub.execute_input": "2024-11-09T19:33:15.255941Z",
     "iopub.status.busy": "2024-11-09T19:33:15.255941Z",
     "iopub.status.idle": "2024-11-09T19:33:15.268512Z",
     "shell.execute_reply": "2024-11-09T19:33:15.268512Z",
     "shell.execute_reply.started": "2024-11-09T19:33:15.255941Z"
    }
   },
   "outputs": [
    {
     "data": {
      "text/plain": [
       "(256, 256, 1)"
      ]
     },
     "execution_count": 4,
     "metadata": {},
     "output_type": "execute_result"
    }
   ],
   "source": [
    "input_shape = image_pixels[0].shape\n",
    "input_shape"
   ]
  },
  {
   "cell_type": "markdown",
   "id": "1cb71d5c-4c32-4a2a-aad3-e54da50e91c3",
   "metadata": {},
   "source": [
    "## Model Architecture\n",
    "\n",
    "This model leverages the power of **InceptionV3** pre-trained on the ImageNet dataset as a feature extractor, which helps capture important visual features without needing to train the model from scratch. It is followed by a simple fully connected (dense) layer for binary classification.\n",
    "\n",
    "### Model Compilation:\n",
    "\n",
    "- **Optimizer**: Adam optimizer is used for training, which is popular due to its efficiency and adaptability.\n",
    "- **Loss Function**: Binary crossentropy loss is used, suitable for binary classification tasks.\n",
    "- **Metrics**: Accuracy is used as the evaluation metric during training."
   ]
  },
  {
   "cell_type": "code",
   "execution_count": 5,
   "id": "a1d1b65f-8e9c-49b2-9513-5b369734b4b4",
   "metadata": {
    "execution": {
     "iopub.execute_input": "2024-11-09T19:33:15.270507Z",
     "iopub.status.busy": "2024-11-09T19:33:15.269511Z",
     "iopub.status.idle": "2024-11-09T19:33:18.444830Z",
     "shell.execute_reply": "2024-11-09T19:33:18.443826Z",
     "shell.execute_reply.started": "2024-11-09T19:33:15.270507Z"
    }
   },
   "outputs": [
    {
     "name": "stdout",
     "output_type": "stream",
     "text": [
      "WARNING:tensorflow:From C:\\Users\\SAMI\\AppData\\Local\\Programs\\Python\\Python310\\lib\\site-packages\\keras\\src\\backend.py:873: The name tf.get_default_graph is deprecated. Please use tf.compat.v1.get_default_graph instead.\n",
      "\n",
      "WARNING:tensorflow:From C:\\Users\\SAMI\\AppData\\Local\\Programs\\Python\\Python310\\lib\\site-packages\\keras\\src\\layers\\normalization\\batch_normalization.py:979: The name tf.nn.fused_batch_norm is deprecated. Please use tf.compat.v1.nn.fused_batch_norm instead.\n",
      "\n",
      "WARNING:tensorflow:From C:\\Users\\SAMI\\AppData\\Local\\Programs\\Python\\Python310\\lib\\site-packages\\keras\\src\\optimizers\\__init__.py:309: The name tf.train.Optimizer is deprecated. Please use tf.compat.v1.train.Optimizer instead.\n",
      "\n"
     ]
    }
   ],
   "source": [
    "# Model architecture\n",
    "model = models.Sequential()\n",
    "\n",
    "# Lambda layer to repeat grayscale image into 3 channels (RGB)\n",
    "model.add(layers.Lambda(lambda x: tf.repeat(x, repeats=3, axis=-1), input_shape=input_shape))\n",
    "\n",
    "# InceptionV3 as a feature extractor, without the top fully connected layers\n",
    "inception = InceptionV3(weights=\"imagenet\", include_top=False, input_shape=(256, 256, 3))\n",
    "inception.trainable = False  # Freeze Inception layers\n",
    "model.add(inception)\n",
    "\n",
    "# Add a fully connected layer with 256 units\n",
    "model.add(layers.Flatten())  # Flatten the output from the InceptionV3 model\n",
    "model.add(layers.Dense(256, activation='relu'))\n",
    "\n",
    "# Output layer for binary classification\n",
    "model.add(layers.Dense(1, activation='sigmoid'))\n",
    "\n",
    "# Compile the model\n",
    "model.compile(optimizer='adam', loss='binary_crossentropy', metrics=['accuracy'])"
   ]
  },
  {
   "cell_type": "code",
   "execution_count": 6,
   "id": "5fea89b2-123d-4412-8c42-5473bdf723f9",
   "metadata": {
    "execution": {
     "iopub.execute_input": "2024-11-09T19:33:18.447828Z",
     "iopub.status.busy": "2024-11-09T19:33:18.446833Z",
     "iopub.status.idle": "2024-11-09T19:33:18.489431Z",
     "shell.execute_reply": "2024-11-09T19:33:18.489431Z",
     "shell.execute_reply.started": "2024-11-09T19:33:18.447828Z"
    }
   },
   "outputs": [
    {
     "name": "stdout",
     "output_type": "stream",
     "text": [
      "Model: \"sequential\"\n",
      "_________________________________________________________________\n",
      " Layer (type)                Output Shape              Param #   \n",
      "=================================================================\n",
      " lambda (Lambda)             (None, 256, 256, 3)       0         \n",
      "                                                                 \n",
      " inception_v3 (Functional)   (None, 6, 6, 2048)        21802784  \n",
      "                                                                 \n",
      " flatten (Flatten)           (None, 73728)             0         \n",
      "                                                                 \n",
      " dense (Dense)               (None, 256)               18874624  \n",
      "                                                                 \n",
      " dense_1 (Dense)             (None, 1)                 257       \n",
      "                                                                 \n",
      "=================================================================\n",
      "Total params: 40677665 (155.17 MB)\n",
      "Trainable params: 18874881 (72.00 MB)\n",
      "Non-trainable params: 21802784 (83.17 MB)\n",
      "_________________________________________________________________\n"
     ]
    }
   ],
   "source": [
    "model.summary()"
   ]
  },
  {
   "cell_type": "markdown",
   "id": "1d643147-f93c-4ef6-9081-afe27e50d1a2",
   "metadata": {},
   "source": [
    "# Training the Model"
   ]
  },
  {
   "cell_type": "code",
   "execution_count": null,
   "id": "0b9c7481-e5d0-4390-922a-9d74bdccc926",
   "metadata": {
    "execution": {
     "iopub.execute_input": "2024-11-09T19:33:53.707771Z",
     "iopub.status.busy": "2024-11-09T19:33:53.706773Z"
    }
   },
   "outputs": [
    {
     "name": "stdout",
     "output_type": "stream",
     "text": [
      "Epoch 1/7\n",
      "WARNING:tensorflow:From C:\\Users\\SAMI\\AppData\\Local\\Programs\\Python\\Python310\\lib\\site-packages\\keras\\src\\utils\\tf_utils.py:492: The name tf.ragged.RaggedTensorValue is deprecated. Please use tf.compat.v1.ragged.RaggedTensorValue instead.\n",
      "\n",
      "WARNING:tensorflow:From C:\\Users\\SAMI\\AppData\\Local\\Programs\\Python\\Python310\\lib\\site-packages\\keras\\src\\engine\\base_layer_utils.py:384: The name tf.executing_eagerly_outside_functions is deprecated. Please use tf.compat.v1.executing_eagerly_outside_functions instead.\n",
      "\n",
      "15/15 [==============================] - 29s 2s/step - loss: 7.4528 - accuracy: 0.5747 - val_loss: 1.9151 - val_accuracy: 0.6422\n",
      "Epoch 2/7\n",
      "15/15 [==============================] - ETA: 0s - loss: 1.1904 - accuracy: 0.7832"
     ]
    }
   ],
   "source": [
    "# Train the model with the callback\n",
    "history = model.fit(images_train, labels_train, epochs=7, batch_size=32, validation_data=(images_test, labels_test))\n"
   ]
  },
  {
   "cell_type": "markdown",
   "id": "a10a6cd8-362a-4768-a745-9c2d7ccaf4cc",
   "metadata": {},
   "source": [
    "## Plotting Training and Validation Loss"
   ]
  },
  {
   "cell_type": "code",
   "execution_count": null,
   "id": "e1a236ee-64d1-4d49-af05-9c22e1fa3424",
   "metadata": {
    "execution": {
     "iopub.status.busy": "2024-11-09T19:33:18.629685Z",
     "iopub.status.idle": "2024-11-09T19:33:18.629685Z",
     "shell.execute_reply": "2024-11-09T19:33:18.629685Z",
     "shell.execute_reply.started": "2024-11-09T19:33:18.629685Z"
    }
   },
   "outputs": [],
   "source": [
    "import matplotlib.pyplot as plt\n",
    "plt.plot(history.history['loss'], label='loss')\n",
    "plt.plot(history.history['val_loss'], label='val_loss')\n",
    "plt.legend()"
   ]
  },
  {
   "cell_type": "markdown",
   "id": "c7c2eac6-65c7-4f5f-82ec-df2157ad9c07",
   "metadata": {},
   "source": [
    "## Evaluating Model Performance"
   ]
  },
  {
   "cell_type": "code",
   "execution_count": null,
   "id": "e5bcf481-f381-46ca-9fef-b4aae2c186df",
   "metadata": {
    "execution": {
     "iopub.status.busy": "2024-11-09T19:33:18.630682Z",
     "iopub.status.idle": "2024-11-09T19:33:18.630682Z",
     "shell.execute_reply": "2024-11-09T19:33:18.630682Z",
     "shell.execute_reply.started": "2024-11-09T19:33:18.630682Z"
    }
   },
   "outputs": [],
   "source": [
    "# Predicting on the test set\n",
    "y_hat = model.predict(images_test)\n",
    "\n",
    "# Applying threshold to make binary predictions (0 or 1)\n",
    "threshold = 0.5\n",
    "y_pred = (y_hat > threshold).astype(int)"
   ]
  },
  {
   "cell_type": "code",
   "execution_count": null,
   "id": "e0af5e6d-6377-4031-a4a0-966678970947",
   "metadata": {
    "execution": {
     "iopub.status.busy": "2024-11-09T19:33:18.631701Z",
     "iopub.status.idle": "2024-11-09T19:33:18.632680Z",
     "shell.execute_reply": "2024-11-09T19:33:18.632680Z",
     "shell.execute_reply.started": "2024-11-09T19:33:18.632680Z"
    }
   },
   "outputs": [],
   "source": [
    "from sklearn.metrics import ConfusionMatrixDisplay, classification_report\n",
    "print(classification_report(labels_test, y_pred))\n",
    "ConfusionMatrixDisplay.from_predictions(labels_test, y_pred)"
   ]
  },
  {
   "cell_type": "code",
   "execution_count": null,
   "id": "d25c19a0-f899-4541-97b2-6c61dbce4ed7",
   "metadata": {},
   "outputs": [],
   "source": []
  }
 ],
 "metadata": {
  "kernelspec": {
   "display_name": "Python 3 (ipykernel)",
   "language": "python",
   "name": "python3"
  },
  "language_info": {
   "codemirror_mode": {
    "name": "ipython",
    "version": 3
   },
   "file_extension": ".py",
   "mimetype": "text/x-python",
   "name": "python",
   "nbconvert_exporter": "python",
   "pygments_lexer": "ipython3",
   "version": "3.10.0"
  }
 },
 "nbformat": 4,
 "nbformat_minor": 5
}
