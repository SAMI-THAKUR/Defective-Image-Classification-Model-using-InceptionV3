{
 "cells": [
  {
   "cell_type": "markdown",
   "id": "17e8a398-e372-43f6-9b12-4878d7b1780e",
   "metadata": {},
   "source": [
    "# Imports"
   ]
  },
  {
   "cell_type": "code",
   "execution_count": 24,
   "id": "cb431629-995a-4b38-ab4d-af4a9785f2c2",
   "metadata": {
    "execution": {
     "iopub.execute_input": "2024-11-09T18:27:55.500747Z",
     "iopub.status.busy": "2024-11-09T18:27:55.500747Z",
     "iopub.status.idle": "2024-11-09T18:27:55.514285Z",
     "shell.execute_reply": "2024-11-09T18:27:55.514285Z",
     "shell.execute_reply.started": "2024-11-09T18:27:55.500747Z"
    }
   },
   "outputs": [],
   "source": [
    "import pandas as pd\n",
    "import os\n",
    "from PIL import Image\n",
    "import numpy as np\n",
    "import matplotlib.pyplot as plt"
   ]
  },
  {
   "cell_type": "markdown",
   "id": "137bf258-7df9-4d22-b624-ae258fe81181",
   "metadata": {},
   "source": [
    "# Function to calculate number of files in a Directory"
   ]
  },
  {
   "cell_type": "code",
   "execution_count": 38,
   "id": "83f0d42d-b510-4541-920f-8d7b57b35626",
   "metadata": {
    "execution": {
     "iopub.execute_input": "2024-11-09T18:40:00.387267Z",
     "iopub.status.busy": "2024-11-09T18:40:00.386265Z",
     "iopub.status.idle": "2024-11-09T18:40:00.408262Z",
     "shell.execute_reply": "2024-11-09T18:40:00.407265Z",
     "shell.execute_reply.started": "2024-11-09T18:40:00.387267Z"
    }
   },
   "outputs": [],
   "source": [
    "# Function to count the number of files in a given directory\n",
    "def count_files_in_directory(directory):\n",
    "    # List all files in the directory and filter out non-file items (e.g., subdirectories)\n",
    "    # os.listdir() returns a list of all items in the directory\n",
    "    # os.path.isfile() checks whether each item is a file\n",
    "    return len([f for f in os.listdir(directory) if os.path.isfile(os.path.join(directory, f))])"
   ]
  },
  {
   "cell_type": "code",
   "execution_count": 26,
   "id": "f5a3295f-62b4-42ce-aa65-127467b86ed8",
   "metadata": {
    "execution": {
     "iopub.execute_input": "2024-11-09T18:27:56.648004Z",
     "iopub.status.busy": "2024-11-09T18:27:56.646494Z",
     "iopub.status.idle": "2024-11-09T18:27:56.662519Z",
     "shell.execute_reply": "2024-11-09T18:27:56.662519Z",
     "shell.execute_reply.started": "2024-11-09T18:27:56.648004Z"
    }
   },
   "outputs": [],
   "source": [
    "image_pixel = []    # To store image pixel arrays\n",
    "image_paths = []    # To store paths to the images\n",
    "image_label = []    # To store corresponding labels for images (0,1)\n",
    "image_subLabel = [] # To store corresponding sub-labels for images (good, manipulated_front, scratch_head, thread_side, thread_top)"
   ]
  },
  {
   "cell_type": "markdown",
   "id": "7f8164fa-eb83-4ba9-bb3e-ab1bd764b410",
   "metadata": {},
   "source": [
    "## Image Categorization Function\n",
    "\n",
    "This function processes images in a given directory, performs necessary preprocessing, and stores the image information (pixel data, label, sub-label, and image path) in predefined lists. The function is designed to handle images with filenames in a numerical sequence.\n",
    "\n",
    "### Steps Performed:\n",
    "1. **Image Loading**\n",
    "2. **Image Resizing**: Each image is resized to a fixed size of 256x256 pixels.\n",
    "3. **Pixel Array Conversion**: The image is converted to a NumPy array.\n",
    "4. **Normalization**: The pixel values are normalized by dividing by 255, so they range between 0 and 1.\n",
    "5. **Channel Expansion**: The image's dimensions are expanded to include a channel (e.g., for grayscale or RGB images).\n",
    "6. **Data Storage**: \n",
    "   - The processed pixel data is appended to the `image_pixel` list.\n",
    "   - The label and sub-label are appended to the `image_label` and `image_subLabel` lists, respectively.\n",
    "   - The image path is stored in the `image_paths` list."
   ]
  },
  {
   "cell_type": "code",
   "execution_count": 27,
   "id": "166d4fe7-71b3-434e-9837-6dc4ecf77b54",
   "metadata": {
    "execution": {
     "iopub.execute_input": "2024-11-09T18:27:57.814366Z",
     "iopub.status.busy": "2024-11-09T18:27:57.814366Z",
     "iopub.status.idle": "2024-11-09T18:27:57.832272Z",
     "shell.execute_reply": "2024-11-09T18:27:57.831301Z",
     "shell.execute_reply.started": "2024-11-09T18:27:57.814366Z"
    }
   },
   "outputs": [],
   "source": [
    "# Function to categorize images by resizing and storing pixel data, labels, and paths\n",
    "def categorize_images(count, directory, label, sub_label):\n",
    "    # Loop over the range of image count\n",
    "    for j in range(1, count):\n",
    "        # Create the image file suffix in 3-digit format\n",
    "        img_suffix = f\"{j:03d}\"\n",
    "        # Construct the full image path\n",
    "        image_path = directory + \"/\" + img_suffix + \".png\"\n",
    "        \n",
    "        try:\n",
    "            # Open the image\n",
    "            image = Image.open(image_path)\n",
    "            # Resize the image to a fixed input size\n",
    "            input_size = (256, 256)\n",
    "            image = image.resize(input_size)\n",
    "            \n",
    "            # Convert the image to a numpy array\n",
    "            image_array = np.array(image)\n",
    "            # Normalize pixel values to [0, 1]\n",
    "            image_array = image_array / 255.0\n",
    "            # Expand dimensions to fit the model input (add channel dimension)\n",
    "            image_array = np.expand_dims(image_array, axis=-1) \n",
    "            \n",
    "            # Append the processed image data, label, sub-label, and image path\n",
    "            image_pixel.append(image_array)\n",
    "            image_label.append(label)\n",
    "            image_subLabel.append(sub_label)\n",
    "            image_paths.append(image_path)\n",
    "            \n",
    "        except FileNotFoundError:\n",
    "            # Print a message if the image file is not found\n",
    "            print(f\"File {image_path} not found.\")\n",
    "        except Exception as e:\n",
    "            # Catch any other exceptions and print the error message\n",
    "            print(f\"Error processing file {image_path}: {e}\")\n"
   ]
  },
  {
   "cell_type": "markdown",
   "id": "c5bdecef-ca33-418d-b4b1-da9199172f4b",
   "metadata": {},
   "source": [
    "## Categorizing Images from Multiple Directories"
   ]
  },
  {
   "cell_type": "code",
   "execution_count": 28,
   "id": "186a6b23-e4f6-4831-b7fb-30be5aa903b2",
   "metadata": {
    "execution": {
     "iopub.execute_input": "2024-11-09T18:28:01.200583Z",
     "iopub.status.busy": "2024-11-09T18:28:01.200583Z",
     "iopub.status.idle": "2024-11-09T18:28:06.598164Z",
     "shell.execute_reply": "2024-11-09T18:28:06.598164Z",
     "shell.execute_reply.started": "2024-11-09T18:28:01.200583Z"
    }
   },
   "outputs": [],
   "source": [
    "# Categorize images from different directories with specific labels and sub-labels\n",
    "categorize_images(count_files_in_directory(\"Data/good\"), \"Data/good\", 0, \"good\")\n",
    "categorize_images(count_files_in_directory(\"Data/manipulated_front\"), \"Data/manipulated_front\", 1, \"manipulated_front\")\n",
    "categorize_images(count_files_in_directory(\"Data/scratch_head\"), \"Data/scratch_head\", 1, \"scratch_head\")\n",
    "categorize_images(count_files_in_directory(\"Data/thread_side\"), \"Data/thread_side\", 1, \"thread_side\")\n",
    "categorize_images(count_files_in_directory(\"Data/thread_top\"), \"Data/thread_top\", 1, \"thread_top\")\n"
   ]
  },
  {
   "cell_type": "markdown",
   "id": "03528399-9050-4507-8121-4e4d49214fef",
   "metadata": {},
   "source": [
    "## Saving Categorized Image Data as a `.npz` File\n",
    "**Function `np.savez`**:\n",
    "   - The function `np.savez` is used to store the image data, labels, and sub-labels into a compressed `.npz` file.\n",
    "   - The `image_pixel` array contains the preprocessed image data (with pixel values).\n",
    "   - The `image_label` array contains the labels for each image (e.g., `0` for good, `1` for manipulated).\n",
    "   - The `image_subLabel` array contains the sub-labels for each image (e.g., \"good\", \"manipulated_front\")."
   ]
  },
  {
   "cell_type": "code",
   "execution_count": 34,
   "id": "c19c0ae1-507e-4bb8-9f3a-5c803a7ee154",
   "metadata": {
    "execution": {
     "iopub.execute_input": "2024-11-09T18:28:08.273996Z",
     "iopub.status.busy": "2024-11-09T18:28:08.273996Z",
     "iopub.status.idle": "2024-11-09T18:28:08.632903Z",
     "shell.execute_reply": "2024-11-09T18:28:08.632903Z",
     "shell.execute_reply.started": "2024-11-09T18:28:08.273996Z"
    }
   },
   "outputs": [],
   "source": [
    "# Save categorized image data into a .npz file\n",
    "np.savez('data.npz', \n",
    "         image=image_pixel, \n",
    "         label=image_label,\n",
    "         sub_label=image_subLabel)"
   ]
  }
 ],
 "metadata": {
  "kernelspec": {
   "display_name": "Python 3 (ipykernel)",
   "language": "python",
   "name": "python3"
  },
  "language_info": {
   "codemirror_mode": {
    "name": "ipython",
    "version": 3
   },
   "file_extension": ".py",
   "mimetype": "text/x-python",
   "name": "python",
   "nbconvert_exporter": "python",
   "pygments_lexer": "ipython3",
   "version": "3.10.0"
  }
 },
 "nbformat": 4,
 "nbformat_minor": 5
}
